{
 "cells": [
  {
   "cell_type": "markdown",
   "id": "88ac8bf9",
   "metadata": {},
   "source": [
    "# Handwritten numbers generation using GAN"
   ]
  },
  {
   "cell_type": "markdown",
   "id": "fba75535",
   "metadata": {},
   "source": [
    "## Topic\n",
    "\n",
    "In this notebook I will experiement with a simple Generative Adversarial Network or GAN to try to generate images of handwriten digits using the MNIST dataset. The network is composed of two adversarial network: a generator and a discriminator, the discriminator's job is to differentiate between real images and fake images made by the generator, and the generator's job is to try and create new images of the same size as the input from some noise z using transposed convolution layers. After training the network I will generate some images so let's see how good they will be !"
   ]
  },
  {
   "cell_type": "markdown",
   "id": "e1246183",
   "metadata": {},
   "source": [
    "## Objectives\n",
    "\n",
    "- Build two adversarial networks and train them simutaniously\n",
    "- Generate images of hand-written digits"
   ]
  },
  {
   "cell_type": "markdown",
   "id": "7ef9ae05",
   "metadata": {},
   "source": [
    "## Summary\n",
    "\n",
    "- Importing libraries\n",
    "- The dataset\n",
    "- The discriminator\n",
    "- The generator\n",
    "- Building the network\n",
    "- Setting up the losses\n",
    "- Training the network\n",
    "- Inference\n",
    "- Conclusion"
   ]
  },
  {
   "cell_type": "markdown",
   "id": "7889bfb7",
   "metadata": {},
   "source": [
    "### Importing Libraries"
   ]
  },
  {
   "cell_type": "code",
   "execution_count": 1,
   "id": "702a1e13",
   "metadata": {},
   "outputs": [],
   "source": [
    "import pickle as pkl\n",
    "import matplotlib.pyplot as plt\n",
    "import numpy as np\n",
    "import problem_unittests as tests\n",
    "import torch\n",
    "from torchvision import datasets\n",
    "from torchvision import transforms\n",
    "import torch.nn as nn\n",
    "import torch.nn.functional as F\n",
    "import torch.utils.data as data\n",
    "import cv2\n",
    "from glob import glob\n",
    "import random"
   ]
  },
  {
   "cell_type": "markdown",
   "id": "5161ba7a",
   "metadata": {},
   "source": [
    "### The dataset"
   ]
  },
  {
   "cell_type": "code",
   "execution_count": 2,
   "id": "2349d4b6",
   "metadata": {},
   "outputs": [],
   "source": [
    "transform = transforms.Compose([transforms.Grayscale(num_output_channels=1),\n",
    "                               transforms.ToTensor()])\n",
    "\n",
    "# get the training datasets\n",
    "train_data = datasets.MNIST(root='data', train=True,\n",
    "                                   download=True, transform=transform)"
   ]
  },
  {
   "cell_type": "code",
   "execution_count": 3,
   "id": "a9be397e",
   "metadata": {},
   "outputs": [],
   "source": [
    "batch_size = 64\n",
    "img_size = 28\n",
    "\n",
    "train_loader = torch.utils.data.DataLoader(train_data, batch_size=batch_size, drop_last=True)"
   ]
  },
  {
   "cell_type": "code",
   "execution_count": 4,
   "id": "3951d0f6",
   "metadata": {},
   "outputs": [
    {
     "data": {
      "image/png": "[encoded data removed]",
      "text/plain": [
       "<Figure size 2000x400 with 20 Axes>"
      ]
     },
     "metadata": {},
     "output_type": "display_data"
    }
   ],
   "source": [
    "def show_img(img):\n",
    "    npimg = img.numpy()\n",
    "    plt.imshow(np.transpose(npimg, (1,2,0)))\n",
    "\n",
    "images, _ = next(iter(train_loader))\n",
    "fig = plt.figure(figsize=(20, 4))\n",
    "plot_size=20\n",
    "for idx in np.arange(plot_size):\n",
    "    ax = fig.add_subplot(2, int(plot_size/2), idx+1, xticks=[], yticks=[])\n",
    "    show_img(images[idx])"
   ]
  },
  {
   "cell_type": "code",
   "execution_count": 5,
   "id": "28638d2b",
   "metadata": {},
   "outputs": [
    {
     "name": "stdout",
     "output_type": "stream",
     "text": [
      "tensor(0.)\n",
      "tensor(1.)\n"
     ]
    }
   ],
   "source": [
    "x,y = next(iter(train_loader))\n",
    "print(x.min())\n",
    "print(x.max())"
   ]
  },
  {
   "cell_type": "markdown",
   "id": "88d96c31",
   "metadata": {},
   "source": [
    "So the first thing I did was to create transforms that will transform my raw images into normalized tensors who's values range between 0 and 1. then I sat the batch size and images size and displayed some examples to see how the data looks like."
   ]
  },
  {
   "cell_type": "markdown",
   "id": "6935d54e",
   "metadata": {},
   "source": [
    "### The Disciminator"
   ]
  },
  {
   "cell_type": "code",
   "execution_count": 56,
   "id": "c64c3f03",
   "metadata": {
    "scrolled": true
   },
   "outputs": [],
   "source": [
    "class Discriminator(nn.Module):\n",
    "    def __init__(self, input_size, hidden_dim, output_size):\n",
    "        super(Discriminator, self).__init__()\n",
    "        self.fc1 = nn.Linear(input_size, hidden_dim*8)\n",
    "        self.fc2 = nn.Linear(hidden_dim*8, hidden_dim*4)\n",
    "        self.fc3 = nn.Linear(hidden_dim*4, hidden_dim*2)\n",
    "        self.fc4 = nn.Linear(hidden_dim*2, hidden_dim)\n",
    "        self.fc5 = nn.Linear(hidden_dim, output_size)\n",
    "\n",
    "        \n",
    "        self.dropout = nn.Dropout(p=0.3)\n",
    "        \n",
    "        \n",
    "    def forward(self, x):\n",
    "        x = x.view(-1, 28*28)\n",
    "        x = self.dropout(F.leaky_relu(self.fc1(x), 0.2))\n",
    "        x = self.dropout(F.leaky_relu(self.fc2(x), 0.2))\n",
    "        x = self.dropout(F.leaky_relu(self.fc3(x),0.2))\n",
    "        x = self.dropout(F.leaky_relu(self.fc4(x),0.2))\n",
    "        x = self.fc5(x)\n",
    "\n",
    "        return x\n",
    "#tests.test_discriminator(Discriminator)"
   ]
  },
  {
   "cell_type": "markdown",
   "id": "c3fbf0f9",
   "metadata": {},
   "source": [
    "The discriminator is nothing but a simple network of fully connected layers, which accepts an input size of height*width of the image, and outputs logits to whether or not the image fed is real."
   ]
  },
  {
   "cell_type": "markdown",
   "id": "e785675f",
   "metadata": {},
   "source": [
    "### The Generator"
   ]
  },
  {
   "cell_type": "code",
   "execution_count": 57,
   "id": "e8dbd4c6",
   "metadata": {},
   "outputs": [],
   "source": [
    "class Generator(nn.Module):\n",
    "    def __init__(self, input_size, hidden_dim, output_size):\n",
    "        super(Generator, self).__init__()\n",
    "        self.fc1 = nn.Linear(input_size, hidden_dim)\n",
    "        self.fc2 = nn.Linear(hidden_dim, hidden_dim*2)\n",
    "        self.fc3 = nn.Linear(hidden_dim*2, hidden_dim*4)\n",
    "        self.fc4 = nn.Linear(hidden_dim*4, hidden_dim*2)\n",
    "        self.fc5 = nn.Linear(hidden_dim*2, output_size)\n",
    "    \n",
    "        self.dropout = nn.Dropout(p=0.3)\n",
    "        \n",
    "    def forward(self, x):\n",
    "        x = self.dropout(F.leaky_relu(self.fc1(x),0.2))\n",
    "        x = self.dropout(F.leaky_relu(self.fc2(x), 0.2))\n",
    "        x = self.dropout(F.leaky_relu(self.fc3(x), 0.2))\n",
    "        x = self.dropout(F.leaky_relu(self.fc4(x), 0.2))\n",
    "        x = F.tanh(self.fc5(x))\n",
    "        return x\n",
    "#tests.test_generator(Generator)"
   ]
  },
  {
   "cell_type": "markdown",
   "id": "e201d889",
   "metadata": {},
   "source": [
    "The generator is also a simple network of fully connected layers but it receives a noise data of size 100 (the typical size used) and returns a flattened image that resembles to the training images."
   ]
  },
  {
   "cell_type": "markdown",
   "id": "eeb4ea1f",
   "metadata": {},
   "source": [
    "### Building the network"
   ]
  },
  {
   "cell_type": "code",
   "execution_count": 58,
   "id": "2a7d1ffe",
   "metadata": {},
   "outputs": [],
   "source": [
    "def build_network(d_input, hidden_dim, d_output, g_input, g_output):\n",
    "    D = Discriminator(d_input, hidden_dim, d_output)\n",
    "    G = Generator(g_input, hidden_dim, g_output)\n",
    "    \n",
    "    \n",
    "    print(D)\n",
    "    print()\n",
    "    print(G)\n",
    "    \n",
    "    return D, G"
   ]
  },
  {
   "cell_type": "code",
   "execution_count": 59,
   "id": "f76accf1",
   "metadata": {},
   "outputs": [
    {
     "name": "stdout",
     "output_type": "stream",
     "text": [
      "Discriminator(\n",
      "  (fc1): Linear(in_features=784, out_features=256, bias=True)\n",
      "  (fc2): Linear(in_features=256, out_features=128, bias=True)\n",
      "  (fc3): Linear(in_features=128, out_features=64, bias=True)\n",
      "  (fc4): Linear(in_features=64, out_features=32, bias=True)\n",
      "  (fc5): Linear(in_features=32, out_features=1, bias=True)\n",
      "  (dropout): Dropout(p=0.3, inplace=False)\n",
      ")\n",
      "\n",
      "Generator(\n",
      "  (fc1): Linear(in_features=100, out_features=32, bias=True)\n",
      "  (fc2): Linear(in_features=32, out_features=64, bias=True)\n",
      "  (fc3): Linear(in_features=64, out_features=128, bias=True)\n",
      "  (fc4): Linear(in_features=128, out_features=64, bias=True)\n",
      "  (fc5): Linear(in_features=64, out_features=784, bias=True)\n",
      "  (dropout): Dropout(p=0.3, inplace=False)\n",
      ")\n"
     ]
    }
   ],
   "source": [
    "d_input = 28*28\n",
    "hidden_dim = 32\n",
    "d_output = 1\n",
    "g_input = 100\n",
    "g_output = 28*28\n",
    "z_size = g_input\n",
    "D, G = build_network(d_input, hidden_dim, d_output, g_input, g_output)"
   ]
  },
  {
   "cell_type": "markdown",
   "id": "cc53083b",
   "metadata": {},
   "source": [
    "In the above I simply gathered both the generator and discriminator in one network, sat up the parameters and printed the resulting model."
   ]
  },
  {
   "cell_type": "markdown",
   "id": "2a9f9876",
   "metadata": {},
   "source": [
    "### Setting up the losses"
   ]
  },
  {
   "cell_type": "code",
   "execution_count": 60,
   "id": "89924b3d",
   "metadata": {},
   "outputs": [],
   "source": [
    "criterion = nn.BCEWithLogitsLoss()\n",
    "\n",
    "def real_loss(D_out, smooth=False):\n",
    "    batch_size = D_out.size(0)\n",
    "    if smooth:\n",
    "        labels = torch.ones(batch_size)*0.9\n",
    "    else:\n",
    "        labels = torch.ones(batch_size)\n",
    "    loss = criterion(D_out.squeeze(), labels)\n",
    "    return loss\n",
    "\n",
    "def fake_loss(D_out):\n",
    "    batch_size = D_out.size(0)\n",
    "    labels = torch.zeros(batch_size)\n",
    "    loss = criterion(D_out.squeeze(), labels)\n",
    "    return loss"
   ]
  },
  {
   "cell_type": "markdown",
   "id": "eee9f022",
   "metadata": {},
   "source": [
    "So I set up two loss functions, the first is real loss which will output 1 as the label for real images, and a smoothed label 0.9 as label for images created by the generator. The fake loss has a label of 0."
   ]
  },
  {
   "cell_type": "markdown",
   "id": "7d1bd049",
   "metadata": {},
   "source": [
    "### Training the network"
   ]
  },
  {
   "cell_type": "code",
   "execution_count": 61,
   "id": "a5c4e9f9",
   "metadata": {},
   "outputs": [],
   "source": [
    "import torch.optim as optim\n",
    "d_lr = 0.002\n",
    "g_lr = 0.002\n",
    "d_optimizer = optim.Adam(D.parameters(), lr=d_lr)\n",
    "g_optimizer = optim.Adam(G.parameters(), lr=g_lr)"
   ]
  },
  {
   "cell_type": "code",
   "execution_count": 62,
   "id": "960fdd80",
   "metadata": {},
   "outputs": [],
   "source": [
    "def train(D, G, n_epochs, print_every = 400):\n",
    "    samples = []\n",
    "    losses = []\n",
    "    sample_size = 16\n",
    "    fixed_z = np.random.uniform(-1,1, size=(sample_size, z_size))\n",
    "    fixed_z = torch.from_numpy(fixed_z).float()\n",
    "    \n",
    "    for epoch in range(n_epochs):\n",
    "        for batch_i, (real_images, _) in enumerate(train_loader):\n",
    "            batch_size = real_images.size(0)\n",
    "            real_images = real_images*2 - 1\n",
    "            #real_images = real_images.float()\n",
    "            d_optimizer.zero_grad()\n",
    "            r_output = D(real_images)\n",
    "            r_loss = real_loss(r_output, True)\n",
    "            \n",
    "            with torch.no_grad():\n",
    "                z = np.random.uniform(-1,1, size=(batch_size, z_size))\n",
    "                z = torch.from_numpy(z).float()\n",
    "                fake_images = G(z)\n",
    "            f_output = D(fake_images)\n",
    "            f_loss = fake_loss(f_output)\n",
    "            \n",
    "            d_loss = r_loss + f_loss\n",
    "            d_loss.backward()\n",
    "            d_optimizer.step()\n",
    "            \n",
    "            g_optimizer.zero_grad()\n",
    "            z = np.random.uniform(-1,1, size=(batch_size, z_size))\n",
    "            z = torch.from_numpy(z).float()\n",
    "            fake = G(z)\n",
    "            fake_output = D(fake)\n",
    "            g_loss = real_loss(fake_output)\n",
    "            g_loss.backward()\n",
    "            g_optimizer.step()\n",
    "            \n",
    "            if batch_i % print_every == 0:\n",
    "                \n",
    "                print('Epoch [{:5d}/{:5d}] | d_loss: {:6.4f} | g_loss: {:6.4f}'.format(\n",
    "                        epoch+1, n_epochs, d_loss.item(), g_loss.item()))\n",
    "        losses.append((d_loss.item(), g_loss.item()))       \n",
    "        G.eval()\n",
    "        with torch.no_grad():\n",
    "            sample_z = G(fixed_z)\n",
    "            sample_z = sample_z.detach()\n",
    "            samples.append(sample_z)\n",
    "        G.train()\n",
    "    with open('GAN_samples.pkl', 'wb') as f:\n",
    "        pkl.dump(samples, f)\n",
    "    return losses"
   ]
  },
  {
   "cell_type": "code",
   "execution_count": 68,
   "id": "8d7b0241",
   "metadata": {},
   "outputs": [
    {
     "name": "stdout",
     "output_type": "stream",
     "text": [
      "Epoch [    1/   10] | d_loss: 1.1656 | g_loss: 1.1217\n",
      "Epoch [    1/   10] | d_loss: 1.0856 | g_loss: 2.0307\n",
      "Epoch [    1/   10] | d_loss: 1.1563 | g_loss: 1.6009\n",
      "Epoch [    2/   10] | d_loss: 1.1980 | g_loss: 1.6840\n",
      "Epoch [    2/   10] | d_loss: 1.0017 | g_loss: 1.7637\n",
      "Epoch [    2/   10] | d_loss: 1.1889 | g_loss: 1.2833\n",
      "Epoch [    3/   10] | d_loss: 1.1697 | g_loss: 1.2941\n",
      "Epoch [    3/   10] | d_loss: 1.0610 | g_loss: 1.5791\n",
      "Epoch [    3/   10] | d_loss: 1.1479 | g_loss: 1.1057\n",
      "Epoch [    4/   10] | d_loss: 1.0733 | g_loss: 1.2347\n",
      "Epoch [    4/   10] | d_loss: 1.1869 | g_loss: 1.1515\n",
      "Epoch [    4/   10] | d_loss: 1.1544 | g_loss: 1.2370\n",
      "Epoch [    5/   10] | d_loss: 1.3221 | g_loss: 1.2543\n",
      "Epoch [    5/   10] | d_loss: 1.2719 | g_loss: 1.2886\n",
      "Epoch [    5/   10] | d_loss: 1.2194 | g_loss: 1.3305\n",
      "Epoch [    6/   10] | d_loss: 1.2974 | g_loss: 0.8206\n",
      "Epoch [    6/   10] | d_loss: 1.1390 | g_loss: 1.1977\n",
      "Epoch [    6/   10] | d_loss: 1.4004 | g_loss: 1.1422\n",
      "Epoch [    7/   10] | d_loss: 1.2806 | g_loss: 1.2164\n",
      "Epoch [    7/   10] | d_loss: 1.1715 | g_loss: 1.4264\n",
      "Epoch [    7/   10] | d_loss: 1.2295 | g_loss: 1.2266\n",
      "Epoch [    8/   10] | d_loss: 1.3403 | g_loss: 1.0926\n",
      "Epoch [    8/   10] | d_loss: 1.1317 | g_loss: 1.5940\n",
      "Epoch [    8/   10] | d_loss: 1.2814 | g_loss: 1.2465\n",
      "Epoch [    9/   10] | d_loss: 1.1600 | g_loss: 1.1490\n",
      "Epoch [    9/   10] | d_loss: 1.1621 | g_loss: 1.8361\n",
      "Epoch [    9/   10] | d_loss: 1.3473 | g_loss: 1.3340\n",
      "Epoch [   10/   10] | d_loss: 1.2611 | g_loss: 1.0646\n",
      "Epoch [   10/   10] | d_loss: 1.1061 | g_loss: 1.2412\n",
      "Epoch [   10/   10] | d_loss: 1.0506 | g_loss: 1.5018\n"
     ]
    }
   ],
   "source": [
    "n_epochs = 10\n",
    "\n",
    "losses = train(D, G, n_epochs)"
   ]
  },
  {
   "cell_type": "markdown",
   "id": "5cc1dac3",
   "metadata": {},
   "source": [
    "So the training happened over 10 epochs, in each epoch I passed a real image into the discriminator and a fake image as well, I calculated the loss by combining both losses and did the backpropagation step to update the discriminator's gradients. Next I created images using the generator and passed them through the discriminator as if they were real, calculated the loss and backpropagated on this loss to update the generator's gradients."
   ]
  },
  {
   "cell_type": "code",
   "execution_count": 69,
   "id": "f1f55a2e",
   "metadata": {},
   "outputs": [
    {
     "data": {
      "text/plain": [
       "<matplotlib.legend.Legend at 0x1c06e9d5450>"
      ]
     },
     "execution_count": 69,
     "metadata": {},
     "output_type": "execute_result"
    },
    {
     "data": {
      "image/png": "[encoded data removed]",
      "text/plain": [
       "<Figure size 640x480 with 1 Axes>"
      ]
     },
     "metadata": {},
     "output_type": "display_data"
    }
   ],
   "source": [
    "fig, ax = plt.subplots()\n",
    "losses = np.array(losses)\n",
    "plt.plot(losses.T[0], label='Discriminator', alpha=0.5)\n",
    "plt.plot(losses.T[1], label='Generator', alpha=0.5)\n",
    "plt.title(\"Training Losses\")\n",
    "plt.legend()"
   ]
  },
  {
   "cell_type": "markdown",
   "id": "9d347e59",
   "metadata": {},
   "source": [
    "The loss plot shows that the generator's and discriminator's losses alternate between slightly higher and slightly lower which is totaly normal for adversarial networks"
   ]
  },
  {
   "cell_type": "markdown",
   "id": "b5d6571b",
   "metadata": {},
   "source": [
    "### Inference"
   ]
  },
  {
   "cell_type": "code",
   "execution_count": 70,
   "id": "d611d3bc",
   "metadata": {},
   "outputs": [],
   "source": [
    "def view_samples(epoch, samples):\n",
    "    fig, axes = plt.subplots(figsize=(7,7), nrows=4, ncols=4, sharey=True, sharex=True)\n",
    "    for ax, img in zip(axes.flatten(), samples[epoch]):\n",
    "        img = img.detach()\n",
    "        ax.xaxis.set_visible(False)\n",
    "        ax.yaxis.set_visible(False)\n",
    "        im = ax.imshow(img.reshape((28,28)), cmap='Greys_r')"
   ]
  },
  {
   "cell_type": "code",
   "execution_count": 71,
   "id": "d8b17d8a",
   "metadata": {},
   "outputs": [],
   "source": [
    "with open('GAN_samples.pkl', 'rb') as f:\n",
    "    samples = pkl.load(f)"
   ]
  },
  {
   "cell_type": "code",
   "execution_count": 72,
   "id": "39967713",
   "metadata": {},
   "outputs": [
    {
     "data": {
      "image/png": "[encoded data removed]",
      "text/plain": [
       "<Figure size 700x700 with 16 Axes>"
      ]
     },
     "metadata": {},
     "output_type": "display_data"
    }
   ],
   "source": [
    "_ = view_samples(-1, samples)"
   ]
  },
  {
   "cell_type": "markdown",
   "id": "38453d51",
   "metadata": {},
   "source": [
    "Finally I plotted some examples generated by the network, some of them are clear and can be read easily but other are more blurred and not excatly clear on what the number is"
   ]
  },
  {
   "cell_type": "markdown",
   "id": "8a1c0cb8",
   "metadata": {},
   "source": [
    "### Conclusion\n",
    "\n",
    "In this project I had the oppotunity to work with a simple GAN to generate images of handwritten numbers. After normalizing and transforming my images, I put them through a network comprised of two adversarial networks (one that generates images and one that discriminates between real and fake images), the error generated by the network was moderate the final inference result is also moderate (seen as not all the images generated can be easily read). All in all I can say that the performance of my network is average."
   ]
  }
 ],
 "metadata": {
  "kernelspec": {
   "display_name": "Python 3 (ipykernel)",
   "language": "python",
   "name": "python3"
  },
  "language_info": {
   "codemirror_mode": {
    "name": "ipython",
    "version": 3
   },
   "file_extension": ".py",
   "mimetype": "text/x-python",
   "name": "python",
   "nbconvert_exporter": "python",
   "pygments_lexer": "ipython3",
   "version": "3.10.9"
  }
 },
 "nbformat": 4,
 "nbformat_minor": 5
}
